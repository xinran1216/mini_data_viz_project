{
 "cells": [
  {
   "cell_type": "code",
   "execution_count": 1,
   "metadata": {},
   "outputs": [],
   "source": [
    "import pandas as pd\n",
    "import numpy as np\n",
    "import matplotlib.pyplot as plt\n",
    "import os\n",
    "import json"
   ]
  },
  {
   "cell_type": "markdown",
   "metadata": {},
   "source": [
    "Load data"
   ]
  },
  {
   "cell_type": "code",
   "execution_count": 2,
   "metadata": {},
   "outputs": [
    {
     "name": "stdout",
     "output_type": "stream",
     "text": [
      "no job results found\n",
      "no job results found\n"
     ]
    }
   ],
   "source": [
    "folders = [\n",
    "    \"2023-04-14-job-search-location-DC\",\n",
    "    \"2023-04-14-job-search-location-USA\",\n",
    "]\n",
    "\n",
    "\n",
    "def extract_jobs_results(file_path):\n",
    "    with open(file_path) as f:\n",
    "        data = json.load(f)\n",
    "    return data[\"jobs_results\"]\n",
    "\n",
    "\n",
    "all_jobs_results = []\n",
    "for folder in folders:\n",
    "    for file in os.listdir(folder):\n",
    "        if file.endswith(\".json\"):\n",
    "            file_path = os.path.join(folder, file)\n",
    "            try:\n",
    "                jobs_results = extract_jobs_results(file_path)\n",
    "                all_jobs_results.extend(jobs_results)\n",
    "            except:\n",
    "                print(\"no job results found\")\n",
    "\n",
    "df = pd.DataFrame(all_jobs_results)"
   ]
  },
  {
   "cell_type": "code",
   "execution_count": 3,
   "metadata": {},
   "outputs": [
    {
     "data": {
      "text/html": [
       "<div>\n",
       "<style scoped>\n",
       "    .dataframe tbody tr th:only-of-type {\n",
       "        vertical-align: middle;\n",
       "    }\n",
       "\n",
       "    .dataframe tbody tr th {\n",
       "        vertical-align: top;\n",
       "    }\n",
       "\n",
       "    .dataframe thead th {\n",
       "        text-align: right;\n",
       "    }\n",
       "</style>\n",
       "<table border=\"1\" class=\"dataframe\">\n",
       "  <thead>\n",
       "    <tr style=\"text-align: right;\">\n",
       "      <th></th>\n",
       "      <th>title</th>\n",
       "      <th>company_name</th>\n",
       "      <th>location</th>\n",
       "      <th>via</th>\n",
       "      <th>description</th>\n",
       "      <th>job_highlights</th>\n",
       "      <th>related_links</th>\n",
       "      <th>extensions</th>\n",
       "      <th>detected_extensions</th>\n",
       "      <th>job_id</th>\n",
       "    </tr>\n",
       "  </thead>\n",
       "  <tbody>\n",
       "    <tr>\n",
       "      <th>0</th>\n",
       "      <td>Ethereum Blockchain Developer (Remote)</td>\n",
       "      <td>Ex Populus</td>\n",
       "      <td>Anywhere</td>\n",
       "      <td>via Built In</td>\n",
       "      <td>Company Overview:\\nEx Populus is a cutting-edg...</td>\n",
       "      <td>[{'title': 'Qualifications', 'items': ['2-3 ye...</td>\n",
       "      <td>[{'link': 'https://www.google.com/search?hl=en...</td>\n",
       "      <td>[Work from home, Full-time, No degree mentioned]</td>\n",
       "      <td>{'schedule_type': 'Full-time', 'work_from_home...</td>\n",
       "      <td>eyJqb2JfdGl0bGUiOiJFdGhlcmV1bSBCbG9ja2NoYWluIE...</td>\n",
       "    </tr>\n",
       "    <tr>\n",
       "      <th>1</th>\n",
       "      <td>Blockchain Engineer</td>\n",
       "      <td>21.co</td>\n",
       "      <td>New York, NY</td>\n",
       "      <td>via Greenhouse</td>\n",
       "      <td>We are seeking a highly motivated and skilled ...</td>\n",
       "      <td>[{'title': 'Qualifications', 'items': ['Bachel...</td>\n",
       "      <td>[{'link': 'https://www.google.com/search?hl=en...</td>\n",
       "      <td>[Full-time]</td>\n",
       "      <td>{'schedule_type': 'Full-time'}</td>\n",
       "      <td>eyJqb2JfdGl0bGUiOiJCbG9ja2NoYWluIEVuZ2luZWVyIi...</td>\n",
       "    </tr>\n",
       "    <tr>\n",
       "      <th>2</th>\n",
       "      <td>Blockchain Course Instructor</td>\n",
       "      <td>Blockchain Institute of Technology</td>\n",
       "      <td>Anywhere</td>\n",
       "      <td>via LinkedIn</td>\n",
       "      <td>Are you a blockchain, cryptocurrency, NFT, Met...</td>\n",
       "      <td>[{'title': 'Qualifications', 'items': ['3+ yea...</td>\n",
       "      <td>[{'link': 'https://www.google.com/search?hl=en...</td>\n",
       "      <td>[24 hours ago, Work from home, Contractor, No ...</td>\n",
       "      <td>{'posted_at': '24 hours ago', 'schedule_type':...</td>\n",
       "      <td>eyJqb2JfdGl0bGUiOiJCbG9ja2NoYWluIENvdXJzZSBJbn...</td>\n",
       "    </tr>\n",
       "    <tr>\n",
       "      <th>3</th>\n",
       "      <td>Python based - Blockchain developer to join ex...</td>\n",
       "      <td>Upwork</td>\n",
       "      <td>Anywhere</td>\n",
       "      <td>via Upwork</td>\n",
       "      <td>Need someone to join our existing team to spee...</td>\n",
       "      <td>[{'title': 'Qualifications', 'items': ['Candid...</td>\n",
       "      <td>[{'link': 'http://www.elance.com/', 'text': 'e...</td>\n",
       "      <td>[2 days ago, 10–30 an hour, Work from home, Co...</td>\n",
       "      <td>{'posted_at': '2 days ago', 'schedule_type': '...</td>\n",
       "      <td>eyJqb2JfdGl0bGUiOiJQeXRob24gYmFzZWQgLSBCbG9ja2...</td>\n",
       "    </tr>\n",
       "    <tr>\n",
       "      <th>4</th>\n",
       "      <td>Blockchain DevOps Engineer (Remote)</td>\n",
       "      <td>Telnyx</td>\n",
       "      <td>United States</td>\n",
       "      <td>via Startup Jobs</td>\n",
       "      <td>About Telnyx\\n\\nAt Telnyx, we’re architecting ...</td>\n",
       "      <td>[{'title': 'Qualifications', 'items': ['You ar...</td>\n",
       "      <td>[{'link': 'http://telnyx.com/', 'text': 'telny...</td>\n",
       "      <td>[4 days ago, Full-time, No degree mentioned]</td>\n",
       "      <td>{'posted_at': '4 days ago', 'schedule_type': '...</td>\n",
       "      <td>eyJqb2JfdGl0bGUiOiJCbG9ja2NoYWluIERldk9wcyBFbm...</td>\n",
       "    </tr>\n",
       "  </tbody>\n",
       "</table>\n",
       "</div>"
      ],
      "text/plain": [
       "                                               title  \\\n",
       "0             Ethereum Blockchain Developer (Remote)   \n",
       "1                                Blockchain Engineer   \n",
       "2                       Blockchain Course Instructor   \n",
       "3  Python based - Blockchain developer to join ex...   \n",
       "4                Blockchain DevOps Engineer (Remote)   \n",
       "\n",
       "                         company_name            location               via  \\\n",
       "0                          Ex Populus           Anywhere       via Built In   \n",
       "1                               21.co     New York, NY       via Greenhouse   \n",
       "2  Blockchain Institute of Technology           Anywhere       via LinkedIn   \n",
       "3                              Upwork           Anywhere         via Upwork   \n",
       "4                              Telnyx    United States     via Startup Jobs   \n",
       "\n",
       "                                         description  \\\n",
       "0  Company Overview:\\nEx Populus is a cutting-edg...   \n",
       "1  We are seeking a highly motivated and skilled ...   \n",
       "2  Are you a blockchain, cryptocurrency, NFT, Met...   \n",
       "3  Need someone to join our existing team to spee...   \n",
       "4  About Telnyx\\n\\nAt Telnyx, we’re architecting ...   \n",
       "\n",
       "                                      job_highlights  \\\n",
       "0  [{'title': 'Qualifications', 'items': ['2-3 ye...   \n",
       "1  [{'title': 'Qualifications', 'items': ['Bachel...   \n",
       "2  [{'title': 'Qualifications', 'items': ['3+ yea...   \n",
       "3  [{'title': 'Qualifications', 'items': ['Candid...   \n",
       "4  [{'title': 'Qualifications', 'items': ['You ar...   \n",
       "\n",
       "                                       related_links  \\\n",
       "0  [{'link': 'https://www.google.com/search?hl=en...   \n",
       "1  [{'link': 'https://www.google.com/search?hl=en...   \n",
       "2  [{'link': 'https://www.google.com/search?hl=en...   \n",
       "3  [{'link': 'http://www.elance.com/', 'text': 'e...   \n",
       "4  [{'link': 'http://telnyx.com/', 'text': 'telny...   \n",
       "\n",
       "                                          extensions  \\\n",
       "0   [Work from home, Full-time, No degree mentioned]   \n",
       "1                                        [Full-time]   \n",
       "2  [24 hours ago, Work from home, Contractor, No ...   \n",
       "3  [2 days ago, 10–30 an hour, Work from home, Co...   \n",
       "4       [4 days ago, Full-time, No degree mentioned]   \n",
       "\n",
       "                                 detected_extensions  \\\n",
       "0  {'schedule_type': 'Full-time', 'work_from_home...   \n",
       "1                     {'schedule_type': 'Full-time'}   \n",
       "2  {'posted_at': '24 hours ago', 'schedule_type':...   \n",
       "3  {'posted_at': '2 days ago', 'schedule_type': '...   \n",
       "4  {'posted_at': '4 days ago', 'schedule_type': '...   \n",
       "\n",
       "                                              job_id  \n",
       "0  eyJqb2JfdGl0bGUiOiJFdGhlcmV1bSBCbG9ja2NoYWluIE...  \n",
       "1  eyJqb2JfdGl0bGUiOiJCbG9ja2NoYWluIEVuZ2luZWVyIi...  \n",
       "2  eyJqb2JfdGl0bGUiOiJCbG9ja2NoYWluIENvdXJzZSBJbn...  \n",
       "3  eyJqb2JfdGl0bGUiOiJQeXRob24gYmFzZWQgLSBCbG9ja2...  \n",
       "4  eyJqb2JfdGl0bGUiOiJCbG9ja2NoYWluIERldk9wcyBFbm...  "
      ]
     },
     "execution_count": 3,
     "metadata": {},
     "output_type": "execute_result"
    }
   ],
   "source": [
    "df.head()"
   ]
  },
  {
   "cell_type": "markdown",
   "metadata": {},
   "source": [
    "From the 85 searches, we now have 823 job results in total. There are `title`, `location`, `description`, `job_highlights`, `extensions` and `detected_extensions` in the dataframe. And the `job_id` and `related_link` are not the ones we care about, so I will first remove them from the dataframe."
   ]
  },
  {
   "cell_type": "code",
   "execution_count": 12,
   "metadata": {},
   "outputs": [
    {
     "data": {
      "text/plain": [
       "(823, 10)"
      ]
     },
     "execution_count": 12,
     "metadata": {},
     "output_type": "execute_result"
    }
   ],
   "source": [
    "df.shape"
   ]
  },
  {
   "cell_type": "code",
   "execution_count": 4,
   "metadata": {},
   "outputs": [
    {
     "data": {
      "text/plain": [
       "Index(['title', 'company_name', 'location', 'via', 'description',\n",
       "       'job_highlights', 'related_links', 'extensions', 'detected_extensions',\n",
       "       'job_id'],\n",
       "      dtype='object')"
      ]
     },
     "execution_count": 4,
     "metadata": {},
     "output_type": "execute_result"
    }
   ],
   "source": [
    "df.columns"
   ]
  },
  {
   "cell_type": "code",
   "execution_count": 6,
   "metadata": {},
   "outputs": [],
   "source": [
    "df_new = df[['title', 'company_name', 'location', 'via', 'description',\n",
    "       'job_highlights', 'extensions', 'detected_extensions']]"
   ]
  },
  {
   "cell_type": "markdown",
   "metadata": {},
   "source": [
    "First I want to look at the `via` column and see which platforms are helpful when we want to look for a job."
   ]
  },
  {
   "cell_type": "code",
   "execution_count": 11,
   "metadata": {},
   "outputs": [
    {
     "data": {
      "text/plain": [
       "823"
      ]
     },
     "execution_count": 11,
     "metadata": {},
     "output_type": "execute_result"
    }
   ],
   "source": [
    "df_new['via'].apply(lambda x: x.startswith(\"via \")).sum()"
   ]
  },
  {
   "cell_type": "code",
   "execution_count": 15,
   "metadata": {},
   "outputs": [
    {
     "name": "stderr",
     "output_type": "stream",
     "text": [
      "/var/folders/fw/5y38398x4pgb4ks5np5s62tw0000gn/T/ipykernel_51564/2299690099.py:1: SettingWithCopyWarning: \n",
      "A value is trying to be set on a copy of a slice from a DataFrame.\n",
      "Try using .loc[row_indexer,col_indexer] = value instead\n",
      "\n",
      "See the caveats in the documentation: https://pandas.pydata.org/pandas-docs/stable/user_guide/indexing.html#returning-a-view-versus-a-copy\n",
      "  df_new['platform'] = df_new['via'].apply(lambda x:x[4:])\n"
     ]
    }
   ],
   "source": [
    "df_new['platform'] = df_new['via'].apply(lambda x:x[4:])"
   ]
  },
  {
   "cell_type": "markdown",
   "metadata": {},
   "source": [
    "Since all the value from `via` column starts with \"via \". I remove the first four digits from each value and create a new column `platform` in `df_new`."
   ]
  },
  {
   "cell_type": "code",
   "execution_count": 27,
   "metadata": {},
   "outputs": [],
   "source": [
    "import seaborn as sns\n",
    "import plotly.express as px"
   ]
  },
  {
   "cell_type": "code",
   "execution_count": 33,
   "metadata": {},
   "outputs": [
    {
     "data": {
      "application/vnd.plotly.v1+json": {
       "config": {
        "plotlyServerURL": "https://plot.ly"
       },
       "data": [
        {
         "alignmentgroup": "True",
         "hovertemplate": "<b>%{hovertext}</b><br><br>Count=%{marker.color}<extra></extra>",
         "hovertext": [
          "LinkedIn",
          "ZipRecruiter",
          "Upwork",
          "AngelList",
          "Lever",
          "Greenhouse",
          "Clearance Jobs",
          "Startup Jobs",
          "Built In",
          "Salary.com",
          "Jobs By Workable",
          "Careers At Apple",
          "Karkidi",
          "Glassdoor",
          "Snagajob",
          "Jooble",
          "Monster",
          "JobLeads"
         ],
         "legendgroup": "",
         "marker": {
          "color": [
           66,
           60,
           56,
           36,
           23,
           19,
           19,
           16,
           15,
           14,
           13,
           13,
           12,
           12,
           12,
           11,
           11,
           11
          ],
          "coloraxis": "coloraxis",
          "pattern": {
           "shape": ""
          }
         },
         "name": "",
         "offsetgroup": "",
         "orientation": "h",
         "showlegend": false,
         "textposition": "auto",
         "type": "bar",
         "x": [
          66,
          60,
          56,
          36,
          23,
          19,
          19,
          16,
          15,
          14,
          13,
          13,
          12,
          12,
          12,
          11,
          11,
          11
         ],
         "xaxis": "x",
         "y": [
          "LinkedIn",
          "ZipRecruiter",
          "Upwork",
          "AngelList",
          "Lever",
          "Greenhouse",
          "Clearance Jobs",
          "Startup Jobs",
          "Built In",
          "Salary.com",
          "Jobs By Workable",
          "Careers At Apple",
          "Karkidi",
          "Glassdoor",
          "Snagajob",
          "Jooble",
          "Monster",
          "JobLeads"
         ],
         "yaxis": "y"
        }
       ],
       "layout": {
        "barmode": "relative",
        "coloraxis": {
         "colorbar": {
          "title": {
           "text": "Count"
          }
         },
         "colorscale": [
          [
           0,
           "#7ABAFF"
          ],
          [
           1,
           "#0077B5"
          ]
         ]
        },
        "legend": {
         "tracegroupgap": 0
        },
        "template": {
         "data": {
          "bar": [
           {
            "error_x": {
             "color": "#2a3f5f"
            },
            "error_y": {
             "color": "#2a3f5f"
            },
            "marker": {
             "line": {
              "color": "#E5ECF6",
              "width": 0.5
             },
             "pattern": {
              "fillmode": "overlay",
              "size": 10,
              "solidity": 0.2
             }
            },
            "type": "bar"
           }
          ],
          "barpolar": [
           {
            "marker": {
             "line": {
              "color": "#E5ECF6",
              "width": 0.5
             },
             "pattern": {
              "fillmode": "overlay",
              "size": 10,
              "solidity": 0.2
             }
            },
            "type": "barpolar"
           }
          ],
          "carpet": [
           {
            "aaxis": {
             "endlinecolor": "#2a3f5f",
             "gridcolor": "white",
             "linecolor": "white",
             "minorgridcolor": "white",
             "startlinecolor": "#2a3f5f"
            },
            "baxis": {
             "endlinecolor": "#2a3f5f",
             "gridcolor": "white",
             "linecolor": "white",
             "minorgridcolor": "white",
             "startlinecolor": "#2a3f5f"
            },
            "type": "carpet"
           }
          ],
          "choropleth": [
           {
            "colorbar": {
             "outlinewidth": 0,
             "ticks": ""
            },
            "type": "choropleth"
           }
          ],
          "contour": [
           {
            "colorbar": {
             "outlinewidth": 0,
             "ticks": ""
            },
            "colorscale": [
             [
              0,
              "#0d0887"
             ],
             [
              0.1111111111111111,
              "#46039f"
             ],
             [
              0.2222222222222222,
              "#7201a8"
             ],
             [
              0.3333333333333333,
              "#9c179e"
             ],
             [
              0.4444444444444444,
              "#bd3786"
             ],
             [
              0.5555555555555556,
              "#d8576b"
             ],
             [
              0.6666666666666666,
              "#ed7953"
             ],
             [
              0.7777777777777778,
              "#fb9f3a"
             ],
             [
              0.8888888888888888,
              "#fdca26"
             ],
             [
              1,
              "#f0f921"
             ]
            ],
            "type": "contour"
           }
          ],
          "contourcarpet": [
           {
            "colorbar": {
             "outlinewidth": 0,
             "ticks": ""
            },
            "type": "contourcarpet"
           }
          ],
          "heatmap": [
           {
            "colorbar": {
             "outlinewidth": 0,
             "ticks": ""
            },
            "colorscale": [
             [
              0,
              "#0d0887"
             ],
             [
              0.1111111111111111,
              "#46039f"
             ],
             [
              0.2222222222222222,
              "#7201a8"
             ],
             [
              0.3333333333333333,
              "#9c179e"
             ],
             [
              0.4444444444444444,
              "#bd3786"
             ],
             [
              0.5555555555555556,
              "#d8576b"
             ],
             [
              0.6666666666666666,
              "#ed7953"
             ],
             [
              0.7777777777777778,
              "#fb9f3a"
             ],
             [
              0.8888888888888888,
              "#fdca26"
             ],
             [
              1,
              "#f0f921"
             ]
            ],
            "type": "heatmap"
           }
          ],
          "heatmapgl": [
           {
            "colorbar": {
             "outlinewidth": 0,
             "ticks": ""
            },
            "colorscale": [
             [
              0,
              "#0d0887"
             ],
             [
              0.1111111111111111,
              "#46039f"
             ],
             [
              0.2222222222222222,
              "#7201a8"
             ],
             [
              0.3333333333333333,
              "#9c179e"
             ],
             [
              0.4444444444444444,
              "#bd3786"
             ],
             [
              0.5555555555555556,
              "#d8576b"
             ],
             [
              0.6666666666666666,
              "#ed7953"
             ],
             [
              0.7777777777777778,
              "#fb9f3a"
             ],
             [
              0.8888888888888888,
              "#fdca26"
             ],
             [
              1,
              "#f0f921"
             ]
            ],
            "type": "heatmapgl"
           }
          ],
          "histogram": [
           {
            "marker": {
             "pattern": {
              "fillmode": "overlay",
              "size": 10,
              "solidity": 0.2
             }
            },
            "type": "histogram"
           }
          ],
          "histogram2d": [
           {
            "colorbar": {
             "outlinewidth": 0,
             "ticks": ""
            },
            "colorscale": [
             [
              0,
              "#0d0887"
             ],
             [
              0.1111111111111111,
              "#46039f"
             ],
             [
              0.2222222222222222,
              "#7201a8"
             ],
             [
              0.3333333333333333,
              "#9c179e"
             ],
             [
              0.4444444444444444,
              "#bd3786"
             ],
             [
              0.5555555555555556,
              "#d8576b"
             ],
             [
              0.6666666666666666,
              "#ed7953"
             ],
             [
              0.7777777777777778,
              "#fb9f3a"
             ],
             [
              0.8888888888888888,
              "#fdca26"
             ],
             [
              1,
              "#f0f921"
             ]
            ],
            "type": "histogram2d"
           }
          ],
          "histogram2dcontour": [
           {
            "colorbar": {
             "outlinewidth": 0,
             "ticks": ""
            },
            "colorscale": [
             [
              0,
              "#0d0887"
             ],
             [
              0.1111111111111111,
              "#46039f"
             ],
             [
              0.2222222222222222,
              "#7201a8"
             ],
             [
              0.3333333333333333,
              "#9c179e"
             ],
             [
              0.4444444444444444,
              "#bd3786"
             ],
             [
              0.5555555555555556,
              "#d8576b"
             ],
             [
              0.6666666666666666,
              "#ed7953"
             ],
             [
              0.7777777777777778,
              "#fb9f3a"
             ],
             [
              0.8888888888888888,
              "#fdca26"
             ],
             [
              1,
              "#f0f921"
             ]
            ],
            "type": "histogram2dcontour"
           }
          ],
          "mesh3d": [
           {
            "colorbar": {
             "outlinewidth": 0,
             "ticks": ""
            },
            "type": "mesh3d"
           }
          ],
          "parcoords": [
           {
            "line": {
             "colorbar": {
              "outlinewidth": 0,
              "ticks": ""
             }
            },
            "type": "parcoords"
           }
          ],
          "pie": [
           {
            "automargin": true,
            "type": "pie"
           }
          ],
          "scatter": [
           {
            "fillpattern": {
             "fillmode": "overlay",
             "size": 10,
             "solidity": 0.2
            },
            "type": "scatter"
           }
          ],
          "scatter3d": [
           {
            "line": {
             "colorbar": {
              "outlinewidth": 0,
              "ticks": ""
             }
            },
            "marker": {
             "colorbar": {
              "outlinewidth": 0,
              "ticks": ""
             }
            },
            "type": "scatter3d"
           }
          ],
          "scattercarpet": [
           {
            "marker": {
             "colorbar": {
              "outlinewidth": 0,
              "ticks": ""
             }
            },
            "type": "scattercarpet"
           }
          ],
          "scattergeo": [
           {
            "marker": {
             "colorbar": {
              "outlinewidth": 0,
              "ticks": ""
             }
            },
            "type": "scattergeo"
           }
          ],
          "scattergl": [
           {
            "marker": {
             "colorbar": {
              "outlinewidth": 0,
              "ticks": ""
             }
            },
            "type": "scattergl"
           }
          ],
          "scattermapbox": [
           {
            "marker": {
             "colorbar": {
              "outlinewidth": 0,
              "ticks": ""
             }
            },
            "type": "scattermapbox"
           }
          ],
          "scatterpolar": [
           {
            "marker": {
             "colorbar": {
              "outlinewidth": 0,
              "ticks": ""
             }
            },
            "type": "scatterpolar"
           }
          ],
          "scatterpolargl": [
           {
            "marker": {
             "colorbar": {
              "outlinewidth": 0,
              "ticks": ""
             }
            },
            "type": "scatterpolargl"
           }
          ],
          "scatterternary": [
           {
            "marker": {
             "colorbar": {
              "outlinewidth": 0,
              "ticks": ""
             }
            },
            "type": "scatterternary"
           }
          ],
          "surface": [
           {
            "colorbar": {
             "outlinewidth": 0,
             "ticks": ""
            },
            "colorscale": [
             [
              0,
              "#0d0887"
             ],
             [
              0.1111111111111111,
              "#46039f"
             ],
             [
              0.2222222222222222,
              "#7201a8"
             ],
             [
              0.3333333333333333,
              "#9c179e"
             ],
             [
              0.4444444444444444,
              "#bd3786"
             ],
             [
              0.5555555555555556,
              "#d8576b"
             ],
             [
              0.6666666666666666,
              "#ed7953"
             ],
             [
              0.7777777777777778,
              "#fb9f3a"
             ],
             [
              0.8888888888888888,
              "#fdca26"
             ],
             [
              1,
              "#f0f921"
             ]
            ],
            "type": "surface"
           }
          ],
          "table": [
           {
            "cells": {
             "fill": {
              "color": "#EBF0F8"
             },
             "line": {
              "color": "white"
             }
            },
            "header": {
             "fill": {
              "color": "#C8D4E3"
             },
             "line": {
              "color": "white"
             }
            },
            "type": "table"
           }
          ]
         },
         "layout": {
          "annotationdefaults": {
           "arrowcolor": "#2a3f5f",
           "arrowhead": 0,
           "arrowwidth": 1
          },
          "autotypenumbers": "strict",
          "coloraxis": {
           "colorbar": {
            "outlinewidth": 0,
            "ticks": ""
           }
          },
          "colorscale": {
           "diverging": [
            [
             0,
             "#8e0152"
            ],
            [
             0.1,
             "#c51b7d"
            ],
            [
             0.2,
             "#de77ae"
            ],
            [
             0.3,
             "#f1b6da"
            ],
            [
             0.4,
             "#fde0ef"
            ],
            [
             0.5,
             "#f7f7f7"
            ],
            [
             0.6,
             "#e6f5d0"
            ],
            [
             0.7,
             "#b8e186"
            ],
            [
             0.8,
             "#7fbc41"
            ],
            [
             0.9,
             "#4d9221"
            ],
            [
             1,
             "#276419"
            ]
           ],
           "sequential": [
            [
             0,
             "#0d0887"
            ],
            [
             0.1111111111111111,
             "#46039f"
            ],
            [
             0.2222222222222222,
             "#7201a8"
            ],
            [
             0.3333333333333333,
             "#9c179e"
            ],
            [
             0.4444444444444444,
             "#bd3786"
            ],
            [
             0.5555555555555556,
             "#d8576b"
            ],
            [
             0.6666666666666666,
             "#ed7953"
            ],
            [
             0.7777777777777778,
             "#fb9f3a"
            ],
            [
             0.8888888888888888,
             "#fdca26"
            ],
            [
             1,
             "#f0f921"
            ]
           ],
           "sequentialminus": [
            [
             0,
             "#0d0887"
            ],
            [
             0.1111111111111111,
             "#46039f"
            ],
            [
             0.2222222222222222,
             "#7201a8"
            ],
            [
             0.3333333333333333,
             "#9c179e"
            ],
            [
             0.4444444444444444,
             "#bd3786"
            ],
            [
             0.5555555555555556,
             "#d8576b"
            ],
            [
             0.6666666666666666,
             "#ed7953"
            ],
            [
             0.7777777777777778,
             "#fb9f3a"
            ],
            [
             0.8888888888888888,
             "#fdca26"
            ],
            [
             1,
             "#f0f921"
            ]
           ]
          },
          "colorway": [
           "#636efa",
           "#EF553B",
           "#00cc96",
           "#ab63fa",
           "#FFA15A",
           "#19d3f3",
           "#FF6692",
           "#B6E880",
           "#FF97FF",
           "#FECB52"
          ],
          "font": {
           "color": "#2a3f5f"
          },
          "geo": {
           "bgcolor": "white",
           "lakecolor": "white",
           "landcolor": "#E5ECF6",
           "showlakes": true,
           "showland": true,
           "subunitcolor": "white"
          },
          "hoverlabel": {
           "align": "left"
          },
          "hovermode": "closest",
          "mapbox": {
           "style": "light"
          },
          "paper_bgcolor": "white",
          "plot_bgcolor": "#E5ECF6",
          "polar": {
           "angularaxis": {
            "gridcolor": "white",
            "linecolor": "white",
            "ticks": ""
           },
           "bgcolor": "#E5ECF6",
           "radialaxis": {
            "gridcolor": "white",
            "linecolor": "white",
            "ticks": ""
           }
          },
          "scene": {
           "xaxis": {
            "backgroundcolor": "#E5ECF6",
            "gridcolor": "white",
            "gridwidth": 2,
            "linecolor": "white",
            "showbackground": true,
            "ticks": "",
            "zerolinecolor": "white"
           },
           "yaxis": {
            "backgroundcolor": "#E5ECF6",
            "gridcolor": "white",
            "gridwidth": 2,
            "linecolor": "white",
            "showbackground": true,
            "ticks": "",
            "zerolinecolor": "white"
           },
           "zaxis": {
            "backgroundcolor": "#E5ECF6",
            "gridcolor": "white",
            "gridwidth": 2,
            "linecolor": "white",
            "showbackground": true,
            "ticks": "",
            "zerolinecolor": "white"
           }
          },
          "shapedefaults": {
           "line": {
            "color": "#2a3f5f"
           }
          },
          "ternary": {
           "aaxis": {
            "gridcolor": "white",
            "linecolor": "white",
            "ticks": ""
           },
           "baxis": {
            "gridcolor": "white",
            "linecolor": "white",
            "ticks": ""
           },
           "bgcolor": "#E5ECF6",
           "caxis": {
            "gridcolor": "white",
            "linecolor": "white",
            "ticks": ""
           }
          },
          "title": {
           "x": 0.05
          },
          "xaxis": {
           "automargin": true,
           "gridcolor": "white",
           "linecolor": "white",
           "ticks": "",
           "title": {
            "standoff": 15
           },
           "zerolinecolor": "white",
           "zerolinewidth": 2
          },
          "yaxis": {
           "automargin": true,
           "gridcolor": "white",
           "linecolor": "white",
           "ticks": "",
           "title": {
            "standoff": 15
           },
           "zerolinecolor": "white",
           "zerolinewidth": 2
          }
         }
        },
        "title": {
         "text": "Job Platforms Appearing More than 10 Times",
         "x": 0.5,
         "xanchor": "center"
        },
        "xaxis": {
         "anchor": "y",
         "domain": [
          0,
          1
         ],
         "title": {
          "text": "Count"
         }
        },
        "yaxis": {
         "anchor": "x",
         "categoryorder": "total ascending",
         "domain": [
          0,
          1
         ],
         "title": {
          "text": "Platform"
         }
        }
       }
      }
     },
     "metadata": {},
     "output_type": "display_data"
    }
   ],
   "source": [
    "platform_counts = df_new[\"platform\"].value_counts().reset_index()\n",
    "platform_counts.columns = [\"platform\", \"count\"]\n",
    "platform_counts = platform_counts[platform_counts['count']>10]\n",
    "\n",
    "fig1 = px.bar(\n",
    "    platform_counts,\n",
    "    x=\"count\",\n",
    "    y=\"platform\",\n",
    "    orientation=\"h\",\n",
    "    hover_name=\"platform\",\n",
    "    hover_data={\"platform\": False, \"count\": True},\n",
    "    # text=\"count\",\n",
    "    color=\"count\",\n",
    "    color_continuous_scale=[\"#7ABAFF\", \"#0077B5\"],\n",
    "    labels={\"count\": \"Count\", \"platform\": \"Platform\"},\n",
    "    title=\"Job Platforms Appearing More than 10 Times\",\n",
    ")\n",
    "\n",
    "fig1.update_layout(\n",
    "    title=dict(x=0.5, xanchor=\"center\"),\n",
    "    xaxis=dict(title=\"Count\"),\n",
    "    yaxis=dict(title=\"Platform\", categoryorder=\"total ascending\"),\n",
    "    coloraxis=dict(colorbar=dict(title=\"Count\")),\n",
    ")\n",
    "\n",
    "fig1.show()\n"
   ]
  },
  {
   "cell_type": "markdown",
   "metadata": {},
   "source": [
    "Now I only have the bar chart. With no surprise, LinkedIn appears most. But ZipRecruiter and Upwork is what I haven't heard before. Maybe in specific greater DC area the job platforms are slightly different from what are popular in the whole country. Or the job types are different. We'll find out."
   ]
  },
  {
   "cell_type": "code",
   "execution_count": 34,
   "metadata": {},
   "outputs": [
    {
     "data": {
      "text/html": [
       "<div>\n",
       "<style scoped>\n",
       "    .dataframe tbody tr th:only-of-type {\n",
       "        vertical-align: middle;\n",
       "    }\n",
       "\n",
       "    .dataframe tbody tr th {\n",
       "        vertical-align: top;\n",
       "    }\n",
       "\n",
       "    .dataframe thead th {\n",
       "        text-align: right;\n",
       "    }\n",
       "</style>\n",
       "<table border=\"1\" class=\"dataframe\">\n",
       "  <thead>\n",
       "    <tr style=\"text-align: right;\">\n",
       "      <th></th>\n",
       "      <th>title</th>\n",
       "      <th>company_name</th>\n",
       "      <th>location</th>\n",
       "      <th>via</th>\n",
       "      <th>description</th>\n",
       "      <th>job_highlights</th>\n",
       "      <th>extensions</th>\n",
       "      <th>detected_extensions</th>\n",
       "      <th>platform</th>\n",
       "    </tr>\n",
       "  </thead>\n",
       "  <tbody>\n",
       "    <tr>\n",
       "      <th>0</th>\n",
       "      <td>Ethereum Blockchain Developer (Remote)</td>\n",
       "      <td>Ex Populus</td>\n",
       "      <td>Anywhere</td>\n",
       "      <td>via Built In</td>\n",
       "      <td>Company Overview:\\nEx Populus is a cutting-edg...</td>\n",
       "      <td>[{'title': 'Qualifications', 'items': ['2-3 ye...</td>\n",
       "      <td>[Work from home, Full-time, No degree mentioned]</td>\n",
       "      <td>{'schedule_type': 'Full-time', 'work_from_home...</td>\n",
       "      <td>Built In</td>\n",
       "    </tr>\n",
       "    <tr>\n",
       "      <th>1</th>\n",
       "      <td>Blockchain Engineer</td>\n",
       "      <td>21.co</td>\n",
       "      <td>New York, NY</td>\n",
       "      <td>via Greenhouse</td>\n",
       "      <td>We are seeking a highly motivated and skilled ...</td>\n",
       "      <td>[{'title': 'Qualifications', 'items': ['Bachel...</td>\n",
       "      <td>[Full-time]</td>\n",
       "      <td>{'schedule_type': 'Full-time'}</td>\n",
       "      <td>Greenhouse</td>\n",
       "    </tr>\n",
       "    <tr>\n",
       "      <th>2</th>\n",
       "      <td>Blockchain Course Instructor</td>\n",
       "      <td>Blockchain Institute of Technology</td>\n",
       "      <td>Anywhere</td>\n",
       "      <td>via LinkedIn</td>\n",
       "      <td>Are you a blockchain, cryptocurrency, NFT, Met...</td>\n",
       "      <td>[{'title': 'Qualifications', 'items': ['3+ yea...</td>\n",
       "      <td>[24 hours ago, Work from home, Contractor, No ...</td>\n",
       "      <td>{'posted_at': '24 hours ago', 'schedule_type':...</td>\n",
       "      <td>LinkedIn</td>\n",
       "    </tr>\n",
       "    <tr>\n",
       "      <th>3</th>\n",
       "      <td>Python based - Blockchain developer to join ex...</td>\n",
       "      <td>Upwork</td>\n",
       "      <td>Anywhere</td>\n",
       "      <td>via Upwork</td>\n",
       "      <td>Need someone to join our existing team to spee...</td>\n",
       "      <td>[{'title': 'Qualifications', 'items': ['Candid...</td>\n",
       "      <td>[2 days ago, 10–30 an hour, Work from home, Co...</td>\n",
       "      <td>{'posted_at': '2 days ago', 'schedule_type': '...</td>\n",
       "      <td>Upwork</td>\n",
       "    </tr>\n",
       "    <tr>\n",
       "      <th>4</th>\n",
       "      <td>Blockchain DevOps Engineer (Remote)</td>\n",
       "      <td>Telnyx</td>\n",
       "      <td>United States</td>\n",
       "      <td>via Startup Jobs</td>\n",
       "      <td>About Telnyx\\n\\nAt Telnyx, we’re architecting ...</td>\n",
       "      <td>[{'title': 'Qualifications', 'items': ['You ar...</td>\n",
       "      <td>[4 days ago, Full-time, No degree mentioned]</td>\n",
       "      <td>{'posted_at': '4 days ago', 'schedule_type': '...</td>\n",
       "      <td>Startup Jobs</td>\n",
       "    </tr>\n",
       "  </tbody>\n",
       "</table>\n",
       "</div>"
      ],
      "text/plain": [
       "                                               title  \\\n",
       "0             Ethereum Blockchain Developer (Remote)   \n",
       "1                                Blockchain Engineer   \n",
       "2                       Blockchain Course Instructor   \n",
       "3  Python based - Blockchain developer to join ex...   \n",
       "4                Blockchain DevOps Engineer (Remote)   \n",
       "\n",
       "                         company_name            location               via  \\\n",
       "0                          Ex Populus           Anywhere       via Built In   \n",
       "1                               21.co     New York, NY       via Greenhouse   \n",
       "2  Blockchain Institute of Technology           Anywhere       via LinkedIn   \n",
       "3                              Upwork           Anywhere         via Upwork   \n",
       "4                              Telnyx    United States     via Startup Jobs   \n",
       "\n",
       "                                         description  \\\n",
       "0  Company Overview:\\nEx Populus is a cutting-edg...   \n",
       "1  We are seeking a highly motivated and skilled ...   \n",
       "2  Are you a blockchain, cryptocurrency, NFT, Met...   \n",
       "3  Need someone to join our existing team to spee...   \n",
       "4  About Telnyx\\n\\nAt Telnyx, we’re architecting ...   \n",
       "\n",
       "                                      job_highlights  \\\n",
       "0  [{'title': 'Qualifications', 'items': ['2-3 ye...   \n",
       "1  [{'title': 'Qualifications', 'items': ['Bachel...   \n",
       "2  [{'title': 'Qualifications', 'items': ['3+ yea...   \n",
       "3  [{'title': 'Qualifications', 'items': ['Candid...   \n",
       "4  [{'title': 'Qualifications', 'items': ['You ar...   \n",
       "\n",
       "                                          extensions  \\\n",
       "0   [Work from home, Full-time, No degree mentioned]   \n",
       "1                                        [Full-time]   \n",
       "2  [24 hours ago, Work from home, Contractor, No ...   \n",
       "3  [2 days ago, 10–30 an hour, Work from home, Co...   \n",
       "4       [4 days ago, Full-time, No degree mentioned]   \n",
       "\n",
       "                                 detected_extensions      platform  \n",
       "0  {'schedule_type': 'Full-time', 'work_from_home...      Built In  \n",
       "1                     {'schedule_type': 'Full-time'}    Greenhouse  \n",
       "2  {'posted_at': '24 hours ago', 'schedule_type':...      LinkedIn  \n",
       "3  {'posted_at': '2 days ago', 'schedule_type': '...        Upwork  \n",
       "4  {'posted_at': '4 days ago', 'schedule_type': '...  Startup Jobs  "
      ]
     },
     "execution_count": 34,
     "metadata": {},
     "output_type": "execute_result"
    }
   ],
   "source": [
    "df_new.head()"
   ]
  },
  {
   "cell_type": "code",
   "execution_count": null,
   "metadata": {},
   "outputs": [],
   "source": []
  }
 ],
 "metadata": {
  "kernelspec": {
   "display_name": "Python 3.10.8 ('anly503')",
   "language": "python",
   "name": "python3"
  },
  "language_info": {
   "codemirror_mode": {
    "name": "ipython",
    "version": 3
   },
   "file_extension": ".py",
   "mimetype": "text/x-python",
   "name": "python",
   "nbconvert_exporter": "python",
   "pygments_lexer": "ipython3",
   "version": "3.10.8"
  },
  "orig_nbformat": 4,
  "vscode": {
   "interpreter": {
    "hash": "968c30e5a5d552fc37a0adb08942bbfa98771a9fe34269a1b35e48df2c933626"
   }
  }
 },
 "nbformat": 4,
 "nbformat_minor": 2
}
